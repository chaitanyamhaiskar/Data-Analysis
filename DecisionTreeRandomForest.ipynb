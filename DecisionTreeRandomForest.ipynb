{
  "cells": [
    {
      "cell_type": "markdown",
      "metadata": {
        "id": "view-in-github",
        "colab_type": "text"
      },
      "source": [
        "<a href=\"https://colab.research.google.com/github/chaitanyamhaiskar/Data-Analysis/blob/main/DecisionTreeRandomForest.ipynb\" target=\"_parent\"><img src=\"https://colab.research.google.com/assets/colab-badge.svg\" alt=\"Open In Colab\"/></a>"
      ]
    },
    {
      "cell_type": "code",
      "execution_count": null,
      "metadata": {
        "id": "rkckSW8HiA13"
      },
      "outputs": [],
      "source": [
        "import pandas as pd\n",
        "import numpy as np\n",
        "import seaborn as sns\n",
        "import plotly.express as px\n",
        "import plotly.graph_objects as go\n",
        "import matplotlib.pyplot as plt\n",
        "from tabulate import tabulate\n",
        "import matplotlib.pyplot as plt\n",
        "from sklearn.model_selection import train_test_split\n",
        "from sklearn.tree import DecisionTreeClassifier\n",
        "from sklearn.metrics import accuracy_score, confusion_matrix, classification_report,roc_auc_score\n",
        "from sklearn.tree import plot_tree\n",
        "from sklearn.preprocessing import LabelEncoder"
      ]
    },
    {
      "cell_type": "code",
      "source": [
        "import warnings\n",
        "\n",
        "# Suppress all warnings\n",
        "warnings.filterwarnings('ignore')"
      ],
      "metadata": {
        "id": "drVEQv1ErbPQ"
      },
      "execution_count": null,
      "outputs": []
    },
    {
      "cell_type": "code",
      "execution_count": null,
      "metadata": {
        "id": "CwTagrOsiUcF"
      },
      "outputs": [],
      "source": [
        "cf = pd.read_csv('/content/ML+02+Classification+Employee+Attrition+Dataset.csv')"
      ]
    },
    {
      "cell_type": "code",
      "source": [],
      "metadata": {
        "id": "4kWg00ywmZn8"
      },
      "execution_count": null,
      "outputs": []
    },
    {
      "cell_type": "code",
      "execution_count": null,
      "metadata": {
        "id": "k4kJwd7yiJmQ"
      },
      "outputs": [],
      "source": [
        "from tabulate import tabulate\n",
        "def basicDataInfo(df):\n",
        "    # Display the first 5 rows of the DataFrame\n",
        "    print(\"First 5 rows of the DataFrame:\")\n",
        "    print(tabulate(df.head(), headers='keys', tablefmt='rounded_outline'))\n",
        "    print()  # Add a blank line for separation\n",
        "\n",
        "    # Display the last 5 rows of the DataFrame\n",
        "    print(\"Last 5 rows of the DataFrame:\")\n",
        "    print(tabulate(df.tail(), headers='keys', tablefmt='rounded_outline'))\n",
        "    print()  # Add a blank line for separation\n",
        "\n",
        "    # Display the shape of the DataFrame (number of rows and columns)\n",
        "    shape_info = pd.DataFrame({\"Number of Rows\": [df.shape[0]], \"Number of Columns\": [df.shape[1]]})\n",
        "    print(\"DataFrame shape:\")\n",
        "    print(tabulate(shape_info, headers='keys', tablefmt='rounded_outline'))\n",
        "\n",
        "    #Display the null values if present:\n",
        "    missing_values_info = df.isna().sum().to_frame(name=\"Number of Missing Values\")\n",
        "    print(\"Missing Values Summary:\")\n",
        "    print(tabulate(missing_values_info, headers='keys', tablefmt='rounded_outline'))\n",
        "\n",
        "    # Display the number of duplicated rows in the DataFrame\n",
        "    num_duplicates = df.duplicated().sum()\n",
        "    tab = pd.DataFrame({'Duplicate Values':[num_duplicates]})\n",
        "    print(tabulate(tab,headers='keys',tablefmt = 'rounded_outline'))\n",
        "\n",
        "\n",
        "    # Display Nunique() values:\n",
        "    nunique_vals = df.nunique().reset_index()\n",
        "    nunique_vals.columns = ['Column', 'UniqueCount']\n",
        "    # Display the number of unique values for each column\n",
        "    print(\"Number of Unique Values per Column:\")\n",
        "    print(tabulate(nunique_vals, headers='keys', tablefmt='rounded_outline'))\n",
        "    print()\n",
        "\n",
        "    # Display Data Types()\n",
        "    info = df.dtypes.reset_index()\n",
        "    info.columns = ['Column','Data Type']\n",
        "    print('Data types -> ')\n",
        "    print(tabulate(info,headers = 'keys',tablefmt='rounded_outline'))\n",
        "    print(df.dtypes.value_counts())\n",
        "\n",
        "    # Describe function\n",
        "    des = df.describe()\n",
        "    print('Aggregate Values of The Data Set')\n",
        "    print(tabulate(des,headers = 'keys',tablefmt = 'rounded_outline'))\n",
        "    print()\n"
      ]
    },
    {
      "cell_type": "code",
      "source": [
        "def basicDataInfo2(df):\n",
        "    # Display the first 5 rows of the DataFrame\n",
        "    print(\"First 5 rows of the DataFrame:\")\n",
        "    print(tabulate(df.head(), headers='keys', tablefmt='rounded_outline'))\n",
        "    print()  # Add a blank line for separation\n",
        "\n",
        "    # Display the last 5 rows of the DataFrame\n",
        "    print(\"Last 5 rows of the DataFrame:\")\n",
        "    print(tabulate(df.tail(), headers='keys', tablefmt='rounded_outline'))\n",
        "    print()  # Add a blank line for separation\n",
        "\n",
        "    # Display the shape of the DataFrame (number of rows and columns)\n",
        "    shape_info = pd.DataFrame({\"Number of Rows\": [df.shape[0]], \"Number of Columns\": [df.shape[1]]})\n",
        "    print(\"DataFrame shape:\")\n",
        "    print(tabulate(shape_info, headers='keys', tablefmt='rounded_outline'))\n"
      ],
      "metadata": {
        "id": "zArtT3mBX18B"
      },
      "execution_count": null,
      "outputs": []
    },
    {
      "cell_type": "code",
      "source": [
        "def find_outliers_IQR(df):\n",
        "\toutlier_indices = []\n",
        "\tdf = df.select_dtypes(include = 'number')\n",
        "\tfor col in df.columns:\n",
        "\t\tQ1 = df[col].quantile(0.25)\n",
        "\t\tQ3 = df[col].quantile(0.75)\n",
        "\t\tIQR = Q3-Q1\n",
        "\t\tlower_bound = Q1 - 1.5 * IQR\n",
        "\t\tupper_bound = Q3 + 1.5 * IQR\n",
        "\n",
        "\t\toutlier_list_col = df[(df[col] < lower_bound) | (df[col] > upper_bound)].index\n",
        "\t\toutlier_indices.extend(outlier_list_col)\n",
        "\n",
        "\toutlier_indices = list(set(outlier_indices))\n",
        "\treturn df.iloc[outlier_indices]"
      ],
      "metadata": {
        "id": "b2FqI_8MRMBY"
      },
      "execution_count": null,
      "outputs": []
    },
    {
      "cell_type": "code",
      "execution_count": null,
      "metadata": {
        "id": "7uqVJ3C5iKzI",
        "colab": {
          "base_uri": "https://localhost:8080/"
        },
        "outputId": "18028221-d64c-4819-dbe7-be0acec84177"
      },
      "outputs": [
        {
          "output_type": "stream",
          "name": "stdout",
          "text": [
            "First 5 rows of the DataFrame:\n",
            "╭────┬───────┬─────────────┬───────────────────┬─────────────┬────────────────────────┬────────────────────┬─────────────┬──────────────────┬─────────────────┬──────────────────┬───────────────────────────┬──────────┬──────────────┬──────────────────┬────────────┬───────────────────────┬───────────────────┬─────────────────┬─────────────────┬───────────────┬──────────────────────┬──────────┬────────────┬─────────────────────┬─────────────────────┬────────────────────────────┬─────────────────┬────────────────────┬─────────────────────┬─────────────────────────┬───────────────────┬──────────────────┬──────────────────────┬───────────────────────────┬────────────────────────╮\n",
            "│    │   Age │ Attrition   │ BusinessTravel    │   DailyRate │ Department             │   DistanceFromHome │   Education │ EducationField   │   EmployeeCount │   EmployeeNumber │   EnvironmentSatisfaction │ Gender   │   HourlyRate │   JobInvolvement │   JobLevel │ JobRole               │   JobSatisfaction │ MaritalStatus   │   MonthlyIncome │   MonthlyRate │   NumCompaniesWorked │ Over18   │ OverTime   │   PercentSalaryHike │   PerformanceRating │   RelationshipSatisfaction │   StandardHours │   StockOptionLevel │   TotalWorkingYears │   TrainingTimesLastYear │   WorkLifeBalance │   YearsAtCompany │   YearsInCurrentRole │   YearsSinceLastPromotion │   YearsWithCurrManager │\n",
            "├────┼───────┼─────────────┼───────────────────┼─────────────┼────────────────────────┼────────────────────┼─────────────┼──────────────────┼─────────────────┼──────────────────┼───────────────────────────┼──────────┼──────────────┼──────────────────┼────────────┼───────────────────────┼───────────────────┼─────────────────┼─────────────────┼───────────────┼──────────────────────┼──────────┼────────────┼─────────────────────┼─────────────────────┼────────────────────────────┼─────────────────┼────────────────────┼─────────────────────┼─────────────────────────┼───────────────────┼──────────────────┼──────────────────────┼───────────────────────────┼────────────────────────┤\n",
            "│  0 │    41 │ Yes         │ Travel_Rarely     │        1102 │ Sales                  │                  1 │           2 │ Life Sciences    │               1 │                1 │                         2 │ Female   │           94 │                3 │          2 │ Sales Executive       │                 4 │ Single          │            5993 │         19479 │                    8 │ Y        │ Yes        │                  11 │                   3 │                          1 │              80 │                  0 │                   8 │                       0 │                 1 │                6 │                    4 │                         0 │                      5 │\n",
            "│  1 │    49 │ No          │ Travel_Frequently │         279 │ Research & Development │                  8 │           1 │ Life Sciences    │               1 │                2 │                         3 │ Male     │           61 │                2 │          2 │ Research Scientist    │                 2 │ Married         │            5130 │         24907 │                    1 │ Y        │ No         │                  23 │                   4 │                          4 │              80 │                  1 │                  10 │                       3 │                 3 │               10 │                    7 │                         1 │                      7 │\n",
            "│  2 │    37 │ Yes         │ Travel_Rarely     │        1373 │ Research & Development │                  2 │           2 │ Other            │               1 │                4 │                         4 │ Male     │           92 │                2 │          1 │ Laboratory Technician │                 3 │ Single          │            2090 │          2396 │                    6 │ Y        │ Yes        │                  15 │                   3 │                          2 │              80 │                  0 │                   7 │                       3 │                 3 │                0 │                    0 │                         0 │                      0 │\n",
            "│  3 │    33 │ No          │ Travel_Frequently │        1392 │ Research & Development │                  3 │           4 │ Life Sciences    │               1 │                5 │                         4 │ Female   │           56 │                3 │          1 │ Research Scientist    │                 3 │ Married         │            2909 │         23159 │                    1 │ Y        │ Yes        │                  11 │                   3 │                          3 │              80 │                  0 │                   8 │                       3 │                 3 │                8 │                    7 │                         3 │                      0 │\n",
            "│  4 │    27 │ No          │ Travel_Rarely     │         591 │ Research & Development │                  2 │           1 │ Medical          │               1 │                7 │                         1 │ Male     │           40 │                3 │          1 │ Laboratory Technician │                 2 │ Married         │            3468 │         16632 │                    9 │ Y        │ No         │                  12 │                   3 │                          4 │              80 │                  1 │                   6 │                       3 │                 3 │                2 │                    2 │                         2 │                      2 │\n",
            "╰────┴───────┴─────────────┴───────────────────┴─────────────┴────────────────────────┴────────────────────┴─────────────┴──────────────────┴─────────────────┴──────────────────┴───────────────────────────┴──────────┴──────────────┴──────────────────┴────────────┴───────────────────────┴───────────────────┴─────────────────┴─────────────────┴───────────────┴──────────────────────┴──────────┴────────────┴─────────────────────┴─────────────────────┴────────────────────────────┴─────────────────┴────────────────────┴─────────────────────┴─────────────────────────┴───────────────────┴──────────────────┴──────────────────────┴───────────────────────────┴────────────────────────╯\n",
            "\n",
            "Last 5 rows of the DataFrame:\n",
            "╭──────┬───────┬─────────────┬───────────────────┬─────────────┬────────────────────────┬────────────────────┬─────────────┬──────────────────┬─────────────────┬──────────────────┬───────────────────────────┬──────────┬──────────────┬──────────────────┬────────────┬───────────────────────────┬───────────────────┬─────────────────┬─────────────────┬───────────────┬──────────────────────┬──────────┬────────────┬─────────────────────┬─────────────────────┬────────────────────────────┬─────────────────┬────────────────────┬─────────────────────┬─────────────────────────┬───────────────────┬──────────────────┬──────────────────────┬───────────────────────────┬────────────────────────╮\n",
            "│      │   Age │ Attrition   │ BusinessTravel    │   DailyRate │ Department             │   DistanceFromHome │   Education │ EducationField   │   EmployeeCount │   EmployeeNumber │   EnvironmentSatisfaction │ Gender   │   HourlyRate │   JobInvolvement │   JobLevel │ JobRole                   │   JobSatisfaction │ MaritalStatus   │   MonthlyIncome │   MonthlyRate │   NumCompaniesWorked │ Over18   │ OverTime   │   PercentSalaryHike │   PerformanceRating │   RelationshipSatisfaction │   StandardHours │   StockOptionLevel │   TotalWorkingYears │   TrainingTimesLastYear │   WorkLifeBalance │   YearsAtCompany │   YearsInCurrentRole │   YearsSinceLastPromotion │   YearsWithCurrManager │\n",
            "├──────┼───────┼─────────────┼───────────────────┼─────────────┼────────────────────────┼────────────────────┼─────────────┼──────────────────┼─────────────────┼──────────────────┼───────────────────────────┼──────────┼──────────────┼──────────────────┼────────────┼───────────────────────────┼───────────────────┼─────────────────┼─────────────────┼───────────────┼──────────────────────┼──────────┼────────────┼─────────────────────┼─────────────────────┼────────────────────────────┼─────────────────┼────────────────────┼─────────────────────┼─────────────────────────┼───────────────────┼──────────────────┼──────────────────────┼───────────────────────────┼────────────────────────┤\n",
            "│ 1465 │    36 │ No          │ Travel_Frequently │         884 │ Research & Development │                 23 │           2 │ Medical          │               1 │             2061 │                         3 │ Male     │           41 │                4 │          2 │ Laboratory Technician     │                 4 │ Married         │            2571 │         12290 │                    4 │ Y        │ No         │                  17 │                   3 │                          3 │              80 │                  1 │                  17 │                       3 │                 3 │                5 │                    2 │                         0 │                      3 │\n",
            "│ 1466 │    39 │ No          │ Travel_Rarely     │         613 │ Research & Development │                  6 │           1 │ Medical          │               1 │             2062 │                         4 │ Male     │           42 │                2 │          3 │ Healthcare Representative │                 1 │ Married         │            9991 │         21457 │                    4 │ Y        │ No         │                  15 │                   3 │                          1 │              80 │                  1 │                   9 │                       5 │                 3 │                7 │                    7 │                         1 │                      7 │\n",
            "│ 1467 │    27 │ No          │ Travel_Rarely     │         155 │ Research & Development │                  4 │           3 │ Life Sciences    │               1 │             2064 │                         2 │ Male     │           87 │                4 │          2 │ Manufacturing Director    │                 2 │ Married         │            6142 │          5174 │                    1 │ Y        │ Yes        │                  20 │                   4 │                          2 │              80 │                  1 │                   6 │                       0 │                 3 │                6 │                    2 │                         0 │                      3 │\n",
            "│ 1468 │    49 │ No          │ Travel_Frequently │        1023 │ Sales                  │                  2 │           3 │ Medical          │               1 │             2065 │                         4 │ Male     │           63 │                2 │          2 │ Sales Executive           │                 2 │ Married         │            5390 │         13243 │                    2 │ Y        │ No         │                  14 │                   3 │                          4 │              80 │                  0 │                  17 │                       3 │                 2 │                9 │                    6 │                         0 │                      8 │\n",
            "│ 1469 │    34 │ No          │ Travel_Rarely     │         628 │ Research & Development │                  8 │           3 │ Medical          │               1 │             2068 │                         2 │ Male     │           82 │                4 │          2 │ Laboratory Technician     │                 3 │ Married         │            4404 │         10228 │                    2 │ Y        │ No         │                  12 │                   3 │                          1 │              80 │                  0 │                   6 │                       3 │                 4 │                4 │                    3 │                         1 │                      2 │\n",
            "╰──────┴───────┴─────────────┴───────────────────┴─────────────┴────────────────────────┴────────────────────┴─────────────┴──────────────────┴─────────────────┴──────────────────┴───────────────────────────┴──────────┴──────────────┴──────────────────┴────────────┴───────────────────────────┴───────────────────┴─────────────────┴─────────────────┴───────────────┴──────────────────────┴──────────┴────────────┴─────────────────────┴─────────────────────┴────────────────────────────┴─────────────────┴────────────────────┴─────────────────────┴─────────────────────────┴───────────────────┴──────────────────┴──────────────────────┴───────────────────────────┴────────────────────────╯\n",
            "\n",
            "DataFrame shape:\n",
            "╭────┬──────────────────┬─────────────────────╮\n",
            "│    │   Number of Rows │   Number of Columns │\n",
            "├────┼──────────────────┼─────────────────────┤\n",
            "│  0 │             1470 │                  35 │\n",
            "╰────┴──────────────────┴─────────────────────╯\n",
            "Missing Values Summary:\n",
            "╭──────────────────────────┬────────────────────────────╮\n",
            "│                          │   Number of Missing Values │\n",
            "├──────────────────────────┼────────────────────────────┤\n",
            "│ Age                      │                          0 │\n",
            "│ Attrition                │                          0 │\n",
            "│ BusinessTravel           │                          0 │\n",
            "│ DailyRate                │                          0 │\n",
            "│ Department               │                          0 │\n",
            "│ DistanceFromHome         │                          0 │\n",
            "│ Education                │                          0 │\n",
            "│ EducationField           │                          0 │\n",
            "│ EmployeeCount            │                          0 │\n",
            "│ EmployeeNumber           │                          0 │\n",
            "│ EnvironmentSatisfaction  │                          0 │\n",
            "│ Gender                   │                          0 │\n",
            "│ HourlyRate               │                          0 │\n",
            "│ JobInvolvement           │                          0 │\n",
            "│ JobLevel                 │                          0 │\n",
            "│ JobRole                  │                          0 │\n",
            "│ JobSatisfaction          │                          0 │\n",
            "│ MaritalStatus            │                          0 │\n",
            "│ MonthlyIncome            │                          0 │\n",
            "│ MonthlyRate              │                          0 │\n",
            "│ NumCompaniesWorked       │                          0 │\n",
            "│ Over18                   │                          0 │\n",
            "│ OverTime                 │                          0 │\n",
            "│ PercentSalaryHike        │                          0 │\n",
            "│ PerformanceRating        │                          0 │\n",
            "│ RelationshipSatisfaction │                          0 │\n",
            "│ StandardHours            │                          0 │\n",
            "│ StockOptionLevel         │                          0 │\n",
            "│ TotalWorkingYears        │                          0 │\n",
            "│ TrainingTimesLastYear    │                          0 │\n",
            "│ WorkLifeBalance          │                          0 │\n",
            "│ YearsAtCompany           │                          0 │\n",
            "│ YearsInCurrentRole       │                          0 │\n",
            "│ YearsSinceLastPromotion  │                          0 │\n",
            "│ YearsWithCurrManager     │                          0 │\n",
            "╰──────────────────────────┴────────────────────────────╯\n",
            "╭────┬────────────────────╮\n",
            "│    │   Duplicate Values │\n",
            "├────┼────────────────────┤\n",
            "│  0 │                  0 │\n",
            "╰────┴────────────────────╯\n",
            "Number of Unique Values per Column:\n",
            "╭────┬──────────────────────────┬───────────────╮\n",
            "│    │ Column                   │   UniqueCount │\n",
            "├────┼──────────────────────────┼───────────────┤\n",
            "│  0 │ Age                      │            43 │\n",
            "│  1 │ Attrition                │             2 │\n",
            "│  2 │ BusinessTravel           │             3 │\n",
            "│  3 │ DailyRate                │           886 │\n",
            "│  4 │ Department               │             3 │\n",
            "│  5 │ DistanceFromHome         │            29 │\n",
            "│  6 │ Education                │             5 │\n",
            "│  7 │ EducationField           │             6 │\n",
            "│  8 │ EmployeeCount            │             1 │\n",
            "│  9 │ EmployeeNumber           │          1470 │\n",
            "│ 10 │ EnvironmentSatisfaction  │             4 │\n",
            "│ 11 │ Gender                   │             2 │\n",
            "│ 12 │ HourlyRate               │            71 │\n",
            "│ 13 │ JobInvolvement           │             4 │\n",
            "│ 14 │ JobLevel                 │             5 │\n",
            "│ 15 │ JobRole                  │             9 │\n",
            "│ 16 │ JobSatisfaction          │             4 │\n",
            "│ 17 │ MaritalStatus            │             3 │\n",
            "│ 18 │ MonthlyIncome            │          1349 │\n",
            "│ 19 │ MonthlyRate              │          1427 │\n",
            "│ 20 │ NumCompaniesWorked       │            10 │\n",
            "│ 21 │ Over18                   │             1 │\n",
            "│ 22 │ OverTime                 │             2 │\n",
            "│ 23 │ PercentSalaryHike        │            15 │\n",
            "│ 24 │ PerformanceRating        │             2 │\n",
            "│ 25 │ RelationshipSatisfaction │             4 │\n",
            "│ 26 │ StandardHours            │             1 │\n",
            "│ 27 │ StockOptionLevel         │             4 │\n",
            "│ 28 │ TotalWorkingYears        │            40 │\n",
            "│ 29 │ TrainingTimesLastYear    │             7 │\n",
            "│ 30 │ WorkLifeBalance          │             4 │\n",
            "│ 31 │ YearsAtCompany           │            37 │\n",
            "│ 32 │ YearsInCurrentRole       │            19 │\n",
            "│ 33 │ YearsSinceLastPromotion  │            16 │\n",
            "│ 34 │ YearsWithCurrManager     │            18 │\n",
            "╰────┴──────────────────────────┴───────────────╯\n",
            "\n",
            "Data types -> \n",
            "╭────┬──────────────────────────┬─────────────╮\n",
            "│    │ Column                   │ Data Type   │\n",
            "├────┼──────────────────────────┼─────────────┤\n",
            "│  0 │ Age                      │ int64       │\n",
            "│  1 │ Attrition                │ object      │\n",
            "│  2 │ BusinessTravel           │ object      │\n",
            "│  3 │ DailyRate                │ int64       │\n",
            "│  4 │ Department               │ object      │\n",
            "│  5 │ DistanceFromHome         │ int64       │\n",
            "│  6 │ Education                │ int64       │\n",
            "│  7 │ EducationField           │ object      │\n",
            "│  8 │ EmployeeCount            │ int64       │\n",
            "│  9 │ EmployeeNumber           │ int64       │\n",
            "│ 10 │ EnvironmentSatisfaction  │ int64       │\n",
            "│ 11 │ Gender                   │ object      │\n",
            "│ 12 │ HourlyRate               │ int64       │\n",
            "│ 13 │ JobInvolvement           │ int64       │\n",
            "│ 14 │ JobLevel                 │ int64       │\n",
            "│ 15 │ JobRole                  │ object      │\n",
            "│ 16 │ JobSatisfaction          │ int64       │\n",
            "│ 17 │ MaritalStatus            │ object      │\n",
            "│ 18 │ MonthlyIncome            │ int64       │\n",
            "│ 19 │ MonthlyRate              │ int64       │\n",
            "│ 20 │ NumCompaniesWorked       │ int64       │\n",
            "│ 21 │ Over18                   │ object      │\n",
            "│ 22 │ OverTime                 │ object      │\n",
            "│ 23 │ PercentSalaryHike        │ int64       │\n",
            "│ 24 │ PerformanceRating        │ int64       │\n",
            "│ 25 │ RelationshipSatisfaction │ int64       │\n",
            "│ 26 │ StandardHours            │ int64       │\n",
            "│ 27 │ StockOptionLevel         │ int64       │\n",
            "│ 28 │ TotalWorkingYears        │ int64       │\n",
            "│ 29 │ TrainingTimesLastYear    │ int64       │\n",
            "│ 30 │ WorkLifeBalance          │ int64       │\n",
            "│ 31 │ YearsAtCompany           │ int64       │\n",
            "│ 32 │ YearsInCurrentRole       │ int64       │\n",
            "│ 33 │ YearsSinceLastPromotion  │ int64       │\n",
            "│ 34 │ YearsWithCurrManager     │ int64       │\n",
            "╰────┴──────────────────────────┴─────────────╯\n",
            "int64     26\n",
            "object     9\n",
            "Name: count, dtype: int64\n",
            "Aggregate Values of The Data Set\n",
            "╭───────┬────────────┬─────────────┬────────────────────┬─────────────┬─────────────────┬──────────────────┬───────────────────────────┬──────────────┬──────────────────┬────────────┬───────────────────┬─────────────────┬───────────────┬──────────────────────┬─────────────────────┬─────────────────────┬────────────────────────────┬─────────────────┬────────────────────┬─────────────────────┬─────────────────────────┬───────────────────┬──────────────────┬──────────────────────┬───────────────────────────┬────────────────────────╮\n",
            "│       │        Age │   DailyRate │   DistanceFromHome │   Education │   EmployeeCount │   EmployeeNumber │   EnvironmentSatisfaction │   HourlyRate │   JobInvolvement │   JobLevel │   JobSatisfaction │   MonthlyIncome │   MonthlyRate │   NumCompaniesWorked │   PercentSalaryHike │   PerformanceRating │   RelationshipSatisfaction │   StandardHours │   StockOptionLevel │   TotalWorkingYears │   TrainingTimesLastYear │   WorkLifeBalance │   YearsAtCompany │   YearsInCurrentRole │   YearsSinceLastPromotion │   YearsWithCurrManager │\n",
            "├───────┼────────────┼─────────────┼────────────────────┼─────────────┼─────────────────┼──────────────────┼───────────────────────────┼──────────────┼──────────────────┼────────────┼───────────────────┼─────────────────┼───────────────┼──────────────────────┼─────────────────────┼─────────────────────┼────────────────────────────┼─────────────────┼────────────────────┼─────────────────────┼─────────────────────────┼───────────────────┼──────────────────┼──────────────────────┼───────────────────────────┼────────────────────────┤\n",
            "│ count │ 1470       │    1470     │         1470       │  1470       │            1470 │         1470     │                1470       │    1470      │      1470        │ 1470       │        1470       │         1470    │       1470    │           1470       │          1470       │         1470        │                 1470       │            1470 │        1470        │          1470       │              1470       │       1470        │       1470       │           1470       │                1470       │             1470       │\n",
            "│ mean  │   36.9238  │     802.486 │            9.19252 │     2.91293 │               1 │         1024.87  │                   2.72177 │      65.8912 │         2.72993  │    2.06395 │           2.72857 │         6502.93 │      14313.1  │              2.6932  │            15.2095  │            3.15374  │                    2.71224 │              80 │           0.793878 │            11.2796  │                 2.79932 │          2.76122  │          7.00816 │              4.22925 │                   2.18776 │                4.12313 │\n",
            "│ std   │    9.13537 │     403.509 │            8.10686 │     1.02416 │               0 │          602.024 │                   1.09308 │      20.3294 │         0.711561 │    1.10694 │           1.10285 │         4707.96 │       7117.79 │              2.49801 │             3.65994 │            0.360824 │                    1.08121 │               0 │           0.852077 │             7.78078 │                 1.28927 │          0.706476 │          6.12653 │              3.62314 │                   3.22243 │                3.56814 │\n",
            "│ min   │   18       │     102     │            1       │     1       │               1 │            1     │                   1       │      30      │         1        │    1       │           1       │         1009    │       2094    │              0       │            11       │            3        │                    1       │              80 │           0        │             0       │                 0       │          1        │          0       │              0       │                   0       │                0       │\n",
            "│ 25%   │   30       │     465     │            2       │     2       │               1 │          491.25  │                   2       │      48      │         2        │    1       │           2       │         2911    │       8047    │              1       │            12       │            3        │                    2       │              80 │           0        │             6       │                 2       │          2        │          3       │              2       │                   0       │                2       │\n",
            "│ 50%   │   36       │     802     │            7       │     3       │               1 │         1020.5   │                   3       │      66      │         3        │    2       │           3       │         4919    │      14235.5  │              2       │            14       │            3        │                    3       │              80 │           1        │            10       │                 3       │          3        │          5       │              3       │                   1       │                3       │\n",
            "│ 75%   │   43       │    1157     │           14       │     4       │               1 │         1555.75  │                   4       │      83.75   │         3        │    3       │           4       │         8379    │      20461.5  │              4       │            18       │            3        │                    4       │              80 │           1        │            15       │                 3       │          3        │          9       │              7       │                   3       │                7       │\n",
            "│ max   │   60       │    1499     │           29       │     5       │               1 │         2068     │                   4       │     100      │         4        │    5       │           4       │        19999    │      26999    │              9       │            25       │            4        │                    4       │              80 │           3        │            40       │                 6       │          4        │         40       │             18       │                  15       │               17       │\n",
            "╰───────┴────────────┴─────────────┴────────────────────┴─────────────┴─────────────────┴──────────────────┴───────────────────────────┴──────────────┴──────────────────┴────────────┴───────────────────┴─────────────────┴───────────────┴──────────────────────┴─────────────────────┴─────────────────────┴────────────────────────────┴─────────────────┴────────────────────┴─────────────────────┴─────────────────────────┴───────────────────┴──────────────────┴──────────────────────┴───────────────────────────┴────────────────────────╯\n",
            "\n"
          ]
        }
      ],
      "source": [
        "basicDataInfo(cf)"
      ]
    },
    {
      "cell_type": "code",
      "execution_count": null,
      "metadata": {
        "id": "yA3XjR28iN8_"
      },
      "outputs": [],
      "source": [
        "def droppingCols(df):\n",
        "  dcol = []\n",
        "  for i in df.columns:\n",
        "    if df[i].nunique() == 1:\n",
        "      dcol.append(i)\n",
        "  df.drop(columns=dcol,axis =1,inplace = True)\n",
        "  print(dcol)"
      ]
    },
    {
      "cell_type": "code",
      "execution_count": null,
      "metadata": {
        "colab": {
          "base_uri": "https://localhost:8080/"
        },
        "id": "qdRjIdoJlEW7",
        "outputId": "cfa53632-fa45-4d02-efca-8087a0534a75"
      },
      "outputs": [
        {
          "output_type": "stream",
          "name": "stdout",
          "text": [
            "['EmployeeCount', 'Over18', 'StandardHours']\n"
          ]
        }
      ],
      "source": [
        "droppingCols(df)"
      ]
    },
    {
      "cell_type": "code",
      "execution_count": null,
      "metadata": {
        "id": "5g-Ok8t5lRcG"
      },
      "outputs": [],
      "source": [
        "df = df.drop(columns = ['EmployeeNumber'],axis = 1)\n",
        "# df = df.drop(columns = ['EducationField'],axis = 1)"
      ]
    },
    {
      "cell_type": "code",
      "execution_count": null,
      "metadata": {
        "id": "Md9HheLymOoR"
      },
      "outputs": [],
      "source": [
        "categorical_columns = ['Attrition', 'BusinessTravel', 'Department', 'Gender', 'JobRole', 'MaritalStatus', 'OverTime']\n",
        "data = pd.get_dummies(df, columns=categorical_columns, drop_first=True,dtype = int)\n"
      ]
    },
    {
      "cell_type": "code",
      "execution_count": null,
      "metadata": {
        "colab": {
          "base_uri": "https://localhost:8080/"
        },
        "id": "-jwm2VRxv0Kp",
        "outputId": "3654d5ce-2744-4321-fc5f-25e0493d6076"
      },
      "outputs": [
        {
          "output_type": "stream",
          "name": "stdout",
          "text": [
            "First 5 rows of the DataFrame:\n",
            "╭────┬───────┬─────────────┬──────────────────┬─────────────┬──────────────┬────────────────────┬─────────────┬───────────────────────────┬──────────┬──────────────┬──────────────────┬────────────┬───────────────────────┬───────────────────┬─────────────────┬─────────────────┬───────────────┬──────────────────────┬────────────┬─────────────────────┬─────────────────────┬────────────────────────────┬────────────────────┬─────────────────────┬─────────────────────────┬───────────────────┬──────────────────┬──────────────────────┬───────────────────────────┬────────────────────────╮\n",
            "│    │   Age │   Attrition │   BusinessTravel │   DailyRate │   Department │   DistanceFromHome │   Education │   EnvironmentSatisfaction │   Gender │   HourlyRate │   JobInvolvement │   JobLevel │ JobRole               │   JobSatisfaction │ MaritalStatus   │   MonthlyIncome │   MonthlyRate │   NumCompaniesWorked │ OverTime   │   PercentSalaryHike │   PerformanceRating │   RelationshipSatisfaction │   StockOptionLevel │   TotalWorkingYears │   TrainingTimesLastYear │   WorkLifeBalance │   YearsAtCompany │   YearsInCurrentRole │   YearsSinceLastPromotion │   YearsWithCurrManager │\n",
            "├────┼───────┼─────────────┼──────────────────┼─────────────┼──────────────┼────────────────────┼─────────────┼───────────────────────────┼──────────┼──────────────┼──────────────────┼────────────┼───────────────────────┼───────────────────┼─────────────────┼─────────────────┼───────────────┼──────────────────────┼────────────┼─────────────────────┼─────────────────────┼────────────────────────────┼────────────────────┼─────────────────────┼─────────────────────────┼───────────────────┼──────────────────┼──────────────────────┼───────────────────────────┼────────────────────────┤\n",
            "│  0 │    41 │           1 │                2 │        1102 │            2 │                  1 │           2 │                         2 │        0 │           94 │                3 │          2 │ Sales Executive       │                 4 │ Single          │            5993 │         19479 │                    8 │ Yes        │                  11 │                   3 │                          1 │                  0 │                   8 │                       0 │                 1 │                6 │                    4 │                         0 │                      5 │\n",
            "│  1 │    49 │           0 │                1 │         279 │            1 │                  8 │           1 │                         3 │        1 │           61 │                2 │          2 │ Research Scientist    │                 2 │ Married         │            5130 │         24907 │                    1 │ No         │                  23 │                   4 │                          4 │                  1 │                  10 │                       3 │                 3 │               10 │                    7 │                         1 │                      7 │\n",
            "│  2 │    37 │           1 │                2 │        1373 │            1 │                  2 │           2 │                         4 │        1 │           92 │                2 │          1 │ Laboratory Technician │                 3 │ Single          │            2090 │          2396 │                    6 │ Yes        │                  15 │                   3 │                          2 │                  0 │                   7 │                       3 │                 3 │                0 │                    0 │                         0 │                      0 │\n",
            "│  3 │    33 │           0 │                1 │        1392 │            1 │                  3 │           4 │                         4 │        0 │           56 │                3 │          1 │ Research Scientist    │                 3 │ Married         │            2909 │         23159 │                    1 │ Yes        │                  11 │                   3 │                          3 │                  0 │                   8 │                       3 │                 3 │                8 │                    7 │                         3 │                      0 │\n",
            "│  4 │    27 │           0 │                2 │         591 │            1 │                  2 │           1 │                         1 │        1 │           40 │                3 │          1 │ Laboratory Technician │                 2 │ Married         │            3468 │         16632 │                    9 │ No         │                  12 │                   3 │                          4 │                  1 │                   6 │                       3 │                 3 │                2 │                    2 │                         2 │                      2 │\n",
            "╰────┴───────┴─────────────┴──────────────────┴─────────────┴──────────────┴────────────────────┴─────────────┴───────────────────────────┴──────────┴──────────────┴──────────────────┴────────────┴───────────────────────┴───────────────────┴─────────────────┴─────────────────┴───────────────┴──────────────────────┴────────────┴─────────────────────┴─────────────────────┴────────────────────────────┴────────────────────┴─────────────────────┴─────────────────────────┴───────────────────┴──────────────────┴──────────────────────┴───────────────────────────┴────────────────────────╯\n",
            "\n",
            "Last 5 rows of the DataFrame:\n",
            "╭──────┬───────┬─────────────┬──────────────────┬─────────────┬──────────────┬────────────────────┬─────────────┬───────────────────────────┬──────────┬──────────────┬──────────────────┬────────────┬───────────────────────────┬───────────────────┬─────────────────┬─────────────────┬───────────────┬──────────────────────┬────────────┬─────────────────────┬─────────────────────┬────────────────────────────┬────────────────────┬─────────────────────┬─────────────────────────┬───────────────────┬──────────────────┬──────────────────────┬───────────────────────────┬────────────────────────╮\n",
            "│      │   Age │   Attrition │   BusinessTravel │   DailyRate │   Department │   DistanceFromHome │   Education │   EnvironmentSatisfaction │   Gender │   HourlyRate │   JobInvolvement │   JobLevel │ JobRole                   │   JobSatisfaction │ MaritalStatus   │   MonthlyIncome │   MonthlyRate │   NumCompaniesWorked │ OverTime   │   PercentSalaryHike │   PerformanceRating │   RelationshipSatisfaction │   StockOptionLevel │   TotalWorkingYears │   TrainingTimesLastYear │   WorkLifeBalance │   YearsAtCompany │   YearsInCurrentRole │   YearsSinceLastPromotion │   YearsWithCurrManager │\n",
            "├──────┼───────┼─────────────┼──────────────────┼─────────────┼──────────────┼────────────────────┼─────────────┼───────────────────────────┼──────────┼──────────────┼──────────────────┼────────────┼───────────────────────────┼───────────────────┼─────────────────┼─────────────────┼───────────────┼──────────────────────┼────────────┼─────────────────────┼─────────────────────┼────────────────────────────┼────────────────────┼─────────────────────┼─────────────────────────┼───────────────────┼──────────────────┼──────────────────────┼───────────────────────────┼────────────────────────┤\n",
            "│ 1465 │    36 │           0 │                1 │         884 │            1 │                 23 │           2 │                         3 │        1 │           41 │                4 │          2 │ Laboratory Technician     │                 4 │ Married         │            2571 │         12290 │                    4 │ No         │                  17 │                   3 │                          3 │                  1 │                  17 │                       3 │                 3 │                5 │                    2 │                         0 │                      3 │\n",
            "│ 1466 │    39 │           0 │                2 │         613 │            1 │                  6 │           1 │                         4 │        1 │           42 │                2 │          3 │ Healthcare Representative │                 1 │ Married         │            9991 │         21457 │                    4 │ No         │                  15 │                   3 │                          1 │                  1 │                   9 │                       5 │                 3 │                7 │                    7 │                         1 │                      7 │\n",
            "│ 1467 │    27 │           0 │                2 │         155 │            1 │                  4 │           3 │                         2 │        1 │           87 │                4 │          2 │ Manufacturing Director    │                 2 │ Married         │            6142 │          5174 │                    1 │ Yes        │                  20 │                   4 │                          2 │                  1 │                   6 │                       0 │                 3 │                6 │                    2 │                         0 │                      3 │\n",
            "│ 1468 │    49 │           0 │                1 │        1023 │            2 │                  2 │           3 │                         4 │        1 │           63 │                2 │          2 │ Sales Executive           │                 2 │ Married         │            5390 │         13243 │                    2 │ No         │                  14 │                   3 │                          4 │                  0 │                  17 │                       3 │                 2 │                9 │                    6 │                         0 │                      8 │\n",
            "│ 1469 │    34 │           0 │                2 │         628 │            1 │                  8 │           3 │                         2 │        1 │           82 │                4 │          2 │ Laboratory Technician     │                 3 │ Married         │            4404 │         10228 │                    2 │ No         │                  12 │                   3 │                          1 │                  0 │                   6 │                       3 │                 4 │                4 │                    3 │                         1 │                      2 │\n",
            "╰──────┴───────┴─────────────┴──────────────────┴─────────────┴──────────────┴────────────────────┴─────────────┴───────────────────────────┴──────────┴──────────────┴──────────────────┴────────────┴───────────────────────────┴───────────────────┴─────────────────┴─────────────────┴───────────────┴──────────────────────┴────────────┴─────────────────────┴─────────────────────┴────────────────────────────┴────────────────────┴─────────────────────┴─────────────────────────┴───────────────────┴──────────────────┴──────────────────────┴───────────────────────────┴────────────────────────╯\n",
            "\n",
            "DataFrame shape:\n",
            "╭────┬──────────────────┬─────────────────────╮\n",
            "│    │   Number of Rows │   Number of Columns │\n",
            "├────┼──────────────────┼─────────────────────┤\n",
            "│  0 │             1470 │                  30 │\n",
            "╰────┴──────────────────┴─────────────────────╯\n"
          ]
        }
      ],
      "source": [
        "basicDataInfo2(df)"
      ]
    },
    {
      "cell_type": "code",
      "source": [
        "def labelEncoding(df,col):\n",
        "  le = LabelEncoder()\n",
        "  le.fit(df[col])\n",
        "  df[col] = le.transform(df[col])\n",
        "  print('Transformed Successfully',col)"
      ],
      "metadata": {
        "id": "KDjERydgRqta"
      },
      "execution_count": null,
      "outputs": []
    },
    {
      "cell_type": "code",
      "source": [
        "# labelEncoding(df,'BusinessTravel')\n",
        "labelEncoding(df,'Attrition')"
      ],
      "metadata": {
        "colab": {
          "base_uri": "https://localhost:8080/"
        },
        "id": "nFxouTFoW0o_",
        "outputId": "b2e52058-ffa0-4697-cb6a-c998291cf9af"
      },
      "execution_count": null,
      "outputs": [
        {
          "output_type": "stream",
          "name": "stdout",
          "text": [
            "Transformed Successfully Attrition\n"
          ]
        }
      ]
    },
    {
      "cell_type": "code",
      "source": [
        "labelEncoding(df,'Department')"
      ],
      "metadata": {
        "colab": {
          "base_uri": "https://localhost:8080/"
        },
        "id": "87ChFnPQYRvg",
        "outputId": "af87cec9-a158-490e-8b8d-f8dc05d11d0c"
      },
      "execution_count": null,
      "outputs": [
        {
          "output_type": "stream",
          "name": "stdout",
          "text": [
            "Transformed Successfully Department\n"
          ]
        }
      ]
    },
    {
      "cell_type": "code",
      "source": [
        "df['JobRole'].unique()"
      ],
      "metadata": {
        "colab": {
          "base_uri": "https://localhost:8080/"
        },
        "id": "Nf8vsnJiWHAY",
        "outputId": "deb2c7ba-7d3a-4728-a252-a19cd290dec2"
      },
      "execution_count": null,
      "outputs": [
        {
          "output_type": "execute_result",
          "data": {
            "text/plain": [
              "array(['Sales Executive', 'Research Scientist', 'Laboratory Technician',\n",
              "       'Manufacturing Director', 'Healthcare Representative', 'Manager',\n",
              "       'Sales Representative', 'Research Director', 'Human Resources'],\n",
              "      dtype=object)"
            ]
          },
          "metadata": {},
          "execution_count": 16
        }
      ]
    },
    {
      "cell_type": "code",
      "source": [
        "df_num = df.select_dtypes(exclude = 'object')\n",
        "df_cat = df.select_dtypes(include = 'object')\n",
        "df_dummy = pd.get_dummies(df_cat,drop_first=True,dtype = int)\n",
        "data = pd.concat([df_num,df_dummy],axis = 1)\n"
      ],
      "metadata": {
        "id": "o5w37xsTbn2X"
      },
      "execution_count": null,
      "outputs": []
    },
    {
      "cell_type": "code",
      "source": [
        "df_num.corr()['Attrition'].sort_values(ascending=False)"
      ],
      "metadata": {
        "id": "AERKy4fEXnkK"
      },
      "execution_count": null,
      "outputs": []
    },
    {
      "cell_type": "code",
      "source": [
        "def outlierFinder(df,col):\n",
        "  Q1 = df[col].quantile(0.25)\n",
        "  Q3 = df[col].quantile(0.75)\n",
        "  IQR = Q3-Q1\n",
        "  lower_bound = Q1 - 1.5 * IQR\n",
        "  upper_bound = Q3 + 1.5 * IQR\n",
        "  return lower_bound,upper_bound,IQR"
      ],
      "metadata": {
        "id": "2_yCCvluaccg"
      },
      "execution_count": null,
      "outputs": []
    },
    {
      "cell_type": "code",
      "source": [
        "lower_bound,upper_bound,IQR = outlierFinder(df,'MonthlyIncome')\n",
        "df['MonthlyIncome'] = np.where(df['MonthlyIncome'] > upper_bound,upper_bound,df['MonthlyIncome'])"
      ],
      "metadata": {
        "id": "_ZMFbiqKkJ2E"
      },
      "execution_count": null,
      "outputs": []
    },
    {
      "cell_type": "code",
      "source": [
        "df['MonthlyIncome'].max()"
      ],
      "metadata": {
        "colab": {
          "base_uri": "https://localhost:8080/"
        },
        "id": "VLnGHkVOkmNC",
        "outputId": "e87a60d0-4e93-4b0f-d52e-290701c4ed19"
      },
      "execution_count": null,
      "outputs": [
        {
          "output_type": "execute_result",
          "data": {
            "text/plain": [
              "16581.0"
            ]
          },
          "metadata": {},
          "execution_count": 24
        }
      ]
    },
    {
      "cell_type": "code",
      "source": [
        "X = cf.drop(['Attrition'], axis=1)\n",
        "Y = cf['Attrition']"
      ],
      "metadata": {
        "id": "uFcN37Lzlm5W"
      },
      "execution_count": null,
      "outputs": []
    },
    {
      "cell_type": "code",
      "source": [
        "x= data.drop('Attrition', axis=1)\n",
        "y = data['Attrition']"
      ],
      "metadata": {
        "id": "fud1PFcnlcxw"
      },
      "execution_count": null,
      "outputs": []
    },
    {
      "cell_type": "code",
      "source": [
        "x_train, x_test , y_train, y_test = train_test_split(x,y,train_size=.75,random_state = 69)\n",
        "dt = DecisionTreeClassifier(random_state = 69)\n",
        "dt.fit(x_train,y_train)\n",
        "y_pred = dt.predict(x_test)\n",
        "y_pred2 = dt.predict(x_train)"
      ],
      "metadata": {
        "id": "81rbnk6RlrJW"
      },
      "execution_count": null,
      "outputs": []
    },
    {
      "cell_type": "code",
      "source": [
        "print(\"Accuracy: \", accuracy_score(y_test,y_pred))\n",
        "print(\"Confusion Matrix:\\n\", confusion_matrix(y_test, y_pred))\n",
        "print(\"Classification Report:\\n\", classification_report(y_test, y_pred))"
      ],
      "metadata": {
        "colab": {
          "base_uri": "https://localhost:8080/"
        },
        "id": "DNHNxrAsmlCL",
        "outputId": "fb33852f-ff1e-4091-b932-997e58a15280"
      },
      "execution_count": null,
      "outputs": [
        {
          "output_type": "stream",
          "name": "stdout",
          "text": [
            "Accuracy:  0.7364130434782609\n",
            "Confusion Matrix:\n",
            " [[244  50]\n",
            " [ 47  27]]\n",
            "Classification Report:\n",
            "               precision    recall  f1-score   support\n",
            "\n",
            "           0       0.84      0.83      0.83       294\n",
            "           1       0.35      0.36      0.36        74\n",
            "\n",
            "    accuracy                           0.74       368\n",
            "   macro avg       0.59      0.60      0.60       368\n",
            "weighted avg       0.74      0.74      0.74       368\n",
            "\n"
          ]
        }
      ]
    },
    {
      "cell_type": "code",
      "source": [
        "accuracy_score(y_pred2,y_train)"
      ],
      "metadata": {
        "colab": {
          "base_uri": "https://localhost:8080/"
        },
        "id": "-ctVuAv_nEN6",
        "outputId": "432a248e-1bca-4e31-d4fd-b9a041e75766"
      },
      "execution_count": null,
      "outputs": [
        {
          "output_type": "execute_result",
          "data": {
            "text/plain": [
              "1.0"
            ]
          },
          "metadata": {},
          "execution_count": 28
        }
      ]
    },
    {
      "cell_type": "code",
      "source": [
        "clf_tree = DecisionTreeClassifier(min_samples_split=50,criterion = 'entropy',max_depth = 10)\n",
        "clf_tree.fit(x_train,y_train)\n",
        "test = clf_tree.predict(x_test)\n",
        "test2 = clf_tree.predict(x_train)"
      ],
      "metadata": {
        "id": "auRjMPkHnqKP"
      },
      "execution_count": null,
      "outputs": []
    },
    {
      "cell_type": "code",
      "source": [
        "print(accuracy_score(y_test,test))\n",
        "print(accuracy_score(y_train,test2))"
      ],
      "metadata": {
        "colab": {
          "base_uri": "https://localhost:8080/"
        },
        "id": "ZMjzSheFpdgI",
        "outputId": "2f8dd5e7-4716-433a-c845-fd39c2714714"
      },
      "execution_count": null,
      "outputs": [
        {
          "output_type": "stream",
          "name": "stdout",
          "text": [
            "0.7961956521739131\n",
            "0.8947368421052632\n"
          ]
        }
      ]
    },
    {
      "cell_type": "code",
      "source": [],
      "metadata": {
        "id": "o4g7pfluijqZ"
      },
      "execution_count": null,
      "outputs": []
    },
    {
      "cell_type": "code",
      "source": [
        "params = {\n",
        "    'max_depth':[2,3,5,10,20],\n",
        "    'min_samples_leaf':[5,10,20,50,100],\n",
        "    'criterion': ['gini','entropy']\n",
        "}"
      ],
      "metadata": {
        "id": "S7zLTfltquIG"
      },
      "execution_count": null,
      "outputs": []
    },
    {
      "cell_type": "code",
      "source": [
        "from sklearn.model_selection import RandomizedSearchCV\n",
        "rs = RandomizedSearchCV(estimator = clf_tree,\n",
        "                        param_distributions=params,\n",
        "                        cv = 4,\n",
        "                        n_jobs=-1,\n",
        "                        verbose = 1,\n",
        "                        scoring = 'accuracy')\n",
        "rs.fit(x_train,y_train)"
      ],
      "metadata": {
        "colab": {
          "base_uri": "https://localhost:8080/",
          "height": 134
        },
        "id": "TsCnoylc2n5w",
        "outputId": "0abc1f09-17ee-4da3-ce4a-9eced18935bd"
      },
      "execution_count": null,
      "outputs": [
        {
          "output_type": "stream",
          "name": "stdout",
          "text": [
            "Fitting 4 folds for each of 10 candidates, totalling 40 fits\n"
          ]
        },
        {
          "output_type": "execute_result",
          "data": {
            "text/plain": [
              "RandomizedSearchCV(cv=4,\n",
              "                   estimator=DecisionTreeClassifier(criterion='entropy',\n",
              "                                                    max_depth=10,\n",
              "                                                    min_samples_split=50),\n",
              "                   n_jobs=-1,\n",
              "                   param_distributions={'criterion': ['gini', 'entropy'],\n",
              "                                        'max_depth': [2, 3, 5, 10, 20],\n",
              "                                        'min_samples_leaf': [5, 10, 20, 50,\n",
              "                                                             100]},\n",
              "                   scoring='accuracy', verbose=1)"
            ],
            "text/html": [
              "<style>#sk-container-id-1 {color: black;background-color: white;}#sk-container-id-1 pre{padding: 0;}#sk-container-id-1 div.sk-toggleable {background-color: white;}#sk-container-id-1 label.sk-toggleable__label {cursor: pointer;display: block;width: 100%;margin-bottom: 0;padding: 0.3em;box-sizing: border-box;text-align: center;}#sk-container-id-1 label.sk-toggleable__label-arrow:before {content: \"▸\";float: left;margin-right: 0.25em;color: #696969;}#sk-container-id-1 label.sk-toggleable__label-arrow:hover:before {color: black;}#sk-container-id-1 div.sk-estimator:hover label.sk-toggleable__label-arrow:before {color: black;}#sk-container-id-1 div.sk-toggleable__content {max-height: 0;max-width: 0;overflow: hidden;text-align: left;background-color: #f0f8ff;}#sk-container-id-1 div.sk-toggleable__content pre {margin: 0.2em;color: black;border-radius: 0.25em;background-color: #f0f8ff;}#sk-container-id-1 input.sk-toggleable__control:checked~div.sk-toggleable__content {max-height: 200px;max-width: 100%;overflow: auto;}#sk-container-id-1 input.sk-toggleable__control:checked~label.sk-toggleable__label-arrow:before {content: \"▾\";}#sk-container-id-1 div.sk-estimator input.sk-toggleable__control:checked~label.sk-toggleable__label {background-color: #d4ebff;}#sk-container-id-1 div.sk-label input.sk-toggleable__control:checked~label.sk-toggleable__label {background-color: #d4ebff;}#sk-container-id-1 input.sk-hidden--visually {border: 0;clip: rect(1px 1px 1px 1px);clip: rect(1px, 1px, 1px, 1px);height: 1px;margin: -1px;overflow: hidden;padding: 0;position: absolute;width: 1px;}#sk-container-id-1 div.sk-estimator {font-family: monospace;background-color: #f0f8ff;border: 1px dotted black;border-radius: 0.25em;box-sizing: border-box;margin-bottom: 0.5em;}#sk-container-id-1 div.sk-estimator:hover {background-color: #d4ebff;}#sk-container-id-1 div.sk-parallel-item::after {content: \"\";width: 100%;border-bottom: 1px solid gray;flex-grow: 1;}#sk-container-id-1 div.sk-label:hover label.sk-toggleable__label {background-color: #d4ebff;}#sk-container-id-1 div.sk-serial::before {content: \"\";position: absolute;border-left: 1px solid gray;box-sizing: border-box;top: 0;bottom: 0;left: 50%;z-index: 0;}#sk-container-id-1 div.sk-serial {display: flex;flex-direction: column;align-items: center;background-color: white;padding-right: 0.2em;padding-left: 0.2em;position: relative;}#sk-container-id-1 div.sk-item {position: relative;z-index: 1;}#sk-container-id-1 div.sk-parallel {display: flex;align-items: stretch;justify-content: center;background-color: white;position: relative;}#sk-container-id-1 div.sk-item::before, #sk-container-id-1 div.sk-parallel-item::before {content: \"\";position: absolute;border-left: 1px solid gray;box-sizing: border-box;top: 0;bottom: 0;left: 50%;z-index: -1;}#sk-container-id-1 div.sk-parallel-item {display: flex;flex-direction: column;z-index: 1;position: relative;background-color: white;}#sk-container-id-1 div.sk-parallel-item:first-child::after {align-self: flex-end;width: 50%;}#sk-container-id-1 div.sk-parallel-item:last-child::after {align-self: flex-start;width: 50%;}#sk-container-id-1 div.sk-parallel-item:only-child::after {width: 0;}#sk-container-id-1 div.sk-dashed-wrapped {border: 1px dashed gray;margin: 0 0.4em 0.5em 0.4em;box-sizing: border-box;padding-bottom: 0.4em;background-color: white;}#sk-container-id-1 div.sk-label label {font-family: monospace;font-weight: bold;display: inline-block;line-height: 1.2em;}#sk-container-id-1 div.sk-label-container {text-align: center;}#sk-container-id-1 div.sk-container {/* jupyter's `normalize.less` sets `[hidden] { display: none; }` but bootstrap.min.css set `[hidden] { display: none !important; }` so we also need the `!important` here to be able to override the default hidden behavior on the sphinx rendered scikit-learn.org. See: https://github.com/scikit-learn/scikit-learn/issues/21755 */display: inline-block !important;position: relative;}#sk-container-id-1 div.sk-text-repr-fallback {display: none;}</style><div id=\"sk-container-id-1\" class=\"sk-top-container\"><div class=\"sk-text-repr-fallback\"><pre>RandomizedSearchCV(cv=4,\n",
              "                   estimator=DecisionTreeClassifier(criterion=&#x27;entropy&#x27;,\n",
              "                                                    max_depth=10,\n",
              "                                                    min_samples_split=50),\n",
              "                   n_jobs=-1,\n",
              "                   param_distributions={&#x27;criterion&#x27;: [&#x27;gini&#x27;, &#x27;entropy&#x27;],\n",
              "                                        &#x27;max_depth&#x27;: [2, 3, 5, 10, 20],\n",
              "                                        &#x27;min_samples_leaf&#x27;: [5, 10, 20, 50,\n",
              "                                                             100]},\n",
              "                   scoring=&#x27;accuracy&#x27;, verbose=1)</pre><b>In a Jupyter environment, please rerun this cell to show the HTML representation or trust the notebook. <br />On GitHub, the HTML representation is unable to render, please try loading this page with nbviewer.org.</b></div><div class=\"sk-container\" hidden><div class=\"sk-item sk-dashed-wrapped\"><div class=\"sk-label-container\"><div class=\"sk-label sk-toggleable\"><input class=\"sk-toggleable__control sk-hidden--visually\" id=\"sk-estimator-id-1\" type=\"checkbox\" ><label for=\"sk-estimator-id-1\" class=\"sk-toggleable__label sk-toggleable__label-arrow\">RandomizedSearchCV</label><div class=\"sk-toggleable__content\"><pre>RandomizedSearchCV(cv=4,\n",
              "                   estimator=DecisionTreeClassifier(criterion=&#x27;entropy&#x27;,\n",
              "                                                    max_depth=10,\n",
              "                                                    min_samples_split=50),\n",
              "                   n_jobs=-1,\n",
              "                   param_distributions={&#x27;criterion&#x27;: [&#x27;gini&#x27;, &#x27;entropy&#x27;],\n",
              "                                        &#x27;max_depth&#x27;: [2, 3, 5, 10, 20],\n",
              "                                        &#x27;min_samples_leaf&#x27;: [5, 10, 20, 50,\n",
              "                                                             100]},\n",
              "                   scoring=&#x27;accuracy&#x27;, verbose=1)</pre></div></div></div><div class=\"sk-parallel\"><div class=\"sk-parallel-item\"><div class=\"sk-item\"><div class=\"sk-label-container\"><div class=\"sk-label sk-toggleable\"><input class=\"sk-toggleable__control sk-hidden--visually\" id=\"sk-estimator-id-2\" type=\"checkbox\" ><label for=\"sk-estimator-id-2\" class=\"sk-toggleable__label sk-toggleable__label-arrow\">estimator: DecisionTreeClassifier</label><div class=\"sk-toggleable__content\"><pre>DecisionTreeClassifier(criterion=&#x27;entropy&#x27;, max_depth=10, min_samples_split=50)</pre></div></div></div><div class=\"sk-serial\"><div class=\"sk-item\"><div class=\"sk-estimator sk-toggleable\"><input class=\"sk-toggleable__control sk-hidden--visually\" id=\"sk-estimator-id-3\" type=\"checkbox\" ><label for=\"sk-estimator-id-3\" class=\"sk-toggleable__label sk-toggleable__label-arrow\">DecisionTreeClassifier</label><div class=\"sk-toggleable__content\"><pre>DecisionTreeClassifier(criterion=&#x27;entropy&#x27;, max_depth=10, min_samples_split=50)</pre></div></div></div></div></div></div></div></div></div></div>"
            ]
          },
          "metadata": {},
          "execution_count": 32
        }
      ]
    },
    {
      "cell_type": "code",
      "source": [
        "rs.best_params_"
      ],
      "metadata": {
        "colab": {
          "base_uri": "https://localhost:8080/"
        },
        "id": "FubRvLrY4GWD",
        "outputId": "cde28e84-7b55-4113-8e28-1db649bd0ea3"
      },
      "execution_count": null,
      "outputs": [
        {
          "output_type": "execute_result",
          "data": {
            "text/plain": [
              "{'min_samples_leaf': 20, 'max_depth': 5, 'criterion': 'gini'}"
            ]
          },
          "metadata": {},
          "execution_count": 33
        }
      ]
    },
    {
      "cell_type": "code",
      "source": [
        "rs.best_score_"
      ],
      "metadata": {
        "colab": {
          "base_uri": "https://localhost:8080/"
        },
        "id": "Lp3Lyd6w42Qe",
        "outputId": "993b2d5b-d327-4d63-909c-25151cec8517"
      },
      "execution_count": null,
      "outputs": [
        {
          "output_type": "execute_result",
          "data": {
            "text/plain": [
              "0.8656884057971015"
            ]
          },
          "metadata": {},
          "execution_count": 34
        }
      ]
    },
    {
      "cell_type": "code",
      "source": [
        "rs.fit(x_train,y_train)"
      ],
      "metadata": {
        "id": "OmhNSq7g43f-",
        "colab": {
          "base_uri": "https://localhost:8080/",
          "height": 134
        },
        "outputId": "95ac2767-162e-413b-e5cc-8cd56f5b0623"
      },
      "execution_count": null,
      "outputs": [
        {
          "output_type": "stream",
          "name": "stdout",
          "text": [
            "Fitting 4 folds for each of 10 candidates, totalling 40 fits\n"
          ]
        },
        {
          "output_type": "execute_result",
          "data": {
            "text/plain": [
              "RandomizedSearchCV(cv=4,\n",
              "                   estimator=DecisionTreeClassifier(criterion='entropy',\n",
              "                                                    max_depth=10,\n",
              "                                                    min_samples_split=50),\n",
              "                   n_jobs=-1,\n",
              "                   param_distributions={'criterion': ['gini', 'entropy'],\n",
              "                                        'max_depth': [2, 3, 5, 10, 20],\n",
              "                                        'min_samples_leaf': [5, 10, 20, 50,\n",
              "                                                             100]},\n",
              "                   scoring='accuracy', verbose=1)"
            ],
            "text/html": [
              "<style>#sk-container-id-2 {color: black;background-color: white;}#sk-container-id-2 pre{padding: 0;}#sk-container-id-2 div.sk-toggleable {background-color: white;}#sk-container-id-2 label.sk-toggleable__label {cursor: pointer;display: block;width: 100%;margin-bottom: 0;padding: 0.3em;box-sizing: border-box;text-align: center;}#sk-container-id-2 label.sk-toggleable__label-arrow:before {content: \"▸\";float: left;margin-right: 0.25em;color: #696969;}#sk-container-id-2 label.sk-toggleable__label-arrow:hover:before {color: black;}#sk-container-id-2 div.sk-estimator:hover label.sk-toggleable__label-arrow:before {color: black;}#sk-container-id-2 div.sk-toggleable__content {max-height: 0;max-width: 0;overflow: hidden;text-align: left;background-color: #f0f8ff;}#sk-container-id-2 div.sk-toggleable__content pre {margin: 0.2em;color: black;border-radius: 0.25em;background-color: #f0f8ff;}#sk-container-id-2 input.sk-toggleable__control:checked~div.sk-toggleable__content {max-height: 200px;max-width: 100%;overflow: auto;}#sk-container-id-2 input.sk-toggleable__control:checked~label.sk-toggleable__label-arrow:before {content: \"▾\";}#sk-container-id-2 div.sk-estimator input.sk-toggleable__control:checked~label.sk-toggleable__label {background-color: #d4ebff;}#sk-container-id-2 div.sk-label input.sk-toggleable__control:checked~label.sk-toggleable__label {background-color: #d4ebff;}#sk-container-id-2 input.sk-hidden--visually {border: 0;clip: rect(1px 1px 1px 1px);clip: rect(1px, 1px, 1px, 1px);height: 1px;margin: -1px;overflow: hidden;padding: 0;position: absolute;width: 1px;}#sk-container-id-2 div.sk-estimator {font-family: monospace;background-color: #f0f8ff;border: 1px dotted black;border-radius: 0.25em;box-sizing: border-box;margin-bottom: 0.5em;}#sk-container-id-2 div.sk-estimator:hover {background-color: #d4ebff;}#sk-container-id-2 div.sk-parallel-item::after {content: \"\";width: 100%;border-bottom: 1px solid gray;flex-grow: 1;}#sk-container-id-2 div.sk-label:hover label.sk-toggleable__label {background-color: #d4ebff;}#sk-container-id-2 div.sk-serial::before {content: \"\";position: absolute;border-left: 1px solid gray;box-sizing: border-box;top: 0;bottom: 0;left: 50%;z-index: 0;}#sk-container-id-2 div.sk-serial {display: flex;flex-direction: column;align-items: center;background-color: white;padding-right: 0.2em;padding-left: 0.2em;position: relative;}#sk-container-id-2 div.sk-item {position: relative;z-index: 1;}#sk-container-id-2 div.sk-parallel {display: flex;align-items: stretch;justify-content: center;background-color: white;position: relative;}#sk-container-id-2 div.sk-item::before, #sk-container-id-2 div.sk-parallel-item::before {content: \"\";position: absolute;border-left: 1px solid gray;box-sizing: border-box;top: 0;bottom: 0;left: 50%;z-index: -1;}#sk-container-id-2 div.sk-parallel-item {display: flex;flex-direction: column;z-index: 1;position: relative;background-color: white;}#sk-container-id-2 div.sk-parallel-item:first-child::after {align-self: flex-end;width: 50%;}#sk-container-id-2 div.sk-parallel-item:last-child::after {align-self: flex-start;width: 50%;}#sk-container-id-2 div.sk-parallel-item:only-child::after {width: 0;}#sk-container-id-2 div.sk-dashed-wrapped {border: 1px dashed gray;margin: 0 0.4em 0.5em 0.4em;box-sizing: border-box;padding-bottom: 0.4em;background-color: white;}#sk-container-id-2 div.sk-label label {font-family: monospace;font-weight: bold;display: inline-block;line-height: 1.2em;}#sk-container-id-2 div.sk-label-container {text-align: center;}#sk-container-id-2 div.sk-container {/* jupyter's `normalize.less` sets `[hidden] { display: none; }` but bootstrap.min.css set `[hidden] { display: none !important; }` so we also need the `!important` here to be able to override the default hidden behavior on the sphinx rendered scikit-learn.org. See: https://github.com/scikit-learn/scikit-learn/issues/21755 */display: inline-block !important;position: relative;}#sk-container-id-2 div.sk-text-repr-fallback {display: none;}</style><div id=\"sk-container-id-2\" class=\"sk-top-container\"><div class=\"sk-text-repr-fallback\"><pre>RandomizedSearchCV(cv=4,\n",
              "                   estimator=DecisionTreeClassifier(criterion=&#x27;entropy&#x27;,\n",
              "                                                    max_depth=10,\n",
              "                                                    min_samples_split=50),\n",
              "                   n_jobs=-1,\n",
              "                   param_distributions={&#x27;criterion&#x27;: [&#x27;gini&#x27;, &#x27;entropy&#x27;],\n",
              "                                        &#x27;max_depth&#x27;: [2, 3, 5, 10, 20],\n",
              "                                        &#x27;min_samples_leaf&#x27;: [5, 10, 20, 50,\n",
              "                                                             100]},\n",
              "                   scoring=&#x27;accuracy&#x27;, verbose=1)</pre><b>In a Jupyter environment, please rerun this cell to show the HTML representation or trust the notebook. <br />On GitHub, the HTML representation is unable to render, please try loading this page with nbviewer.org.</b></div><div class=\"sk-container\" hidden><div class=\"sk-item sk-dashed-wrapped\"><div class=\"sk-label-container\"><div class=\"sk-label sk-toggleable\"><input class=\"sk-toggleable__control sk-hidden--visually\" id=\"sk-estimator-id-4\" type=\"checkbox\" ><label for=\"sk-estimator-id-4\" class=\"sk-toggleable__label sk-toggleable__label-arrow\">RandomizedSearchCV</label><div class=\"sk-toggleable__content\"><pre>RandomizedSearchCV(cv=4,\n",
              "                   estimator=DecisionTreeClassifier(criterion=&#x27;entropy&#x27;,\n",
              "                                                    max_depth=10,\n",
              "                                                    min_samples_split=50),\n",
              "                   n_jobs=-1,\n",
              "                   param_distributions={&#x27;criterion&#x27;: [&#x27;gini&#x27;, &#x27;entropy&#x27;],\n",
              "                                        &#x27;max_depth&#x27;: [2, 3, 5, 10, 20],\n",
              "                                        &#x27;min_samples_leaf&#x27;: [5, 10, 20, 50,\n",
              "                                                             100]},\n",
              "                   scoring=&#x27;accuracy&#x27;, verbose=1)</pre></div></div></div><div class=\"sk-parallel\"><div class=\"sk-parallel-item\"><div class=\"sk-item\"><div class=\"sk-label-container\"><div class=\"sk-label sk-toggleable\"><input class=\"sk-toggleable__control sk-hidden--visually\" id=\"sk-estimator-id-5\" type=\"checkbox\" ><label for=\"sk-estimator-id-5\" class=\"sk-toggleable__label sk-toggleable__label-arrow\">estimator: DecisionTreeClassifier</label><div class=\"sk-toggleable__content\"><pre>DecisionTreeClassifier(criterion=&#x27;entropy&#x27;, max_depth=10, min_samples_split=50)</pre></div></div></div><div class=\"sk-serial\"><div class=\"sk-item\"><div class=\"sk-estimator sk-toggleable\"><input class=\"sk-toggleable__control sk-hidden--visually\" id=\"sk-estimator-id-6\" type=\"checkbox\" ><label for=\"sk-estimator-id-6\" class=\"sk-toggleable__label sk-toggleable__label-arrow\">DecisionTreeClassifier</label><div class=\"sk-toggleable__content\"><pre>DecisionTreeClassifier(criterion=&#x27;entropy&#x27;, max_depth=10, min_samples_split=50)</pre></div></div></div></div></div></div></div></div></div></div>"
            ]
          },
          "metadata": {},
          "execution_count": 35
        }
      ]
    },
    {
      "cell_type": "code",
      "source": [
        "from sklearn import *\n",
        "#ensemble technique\n",
        "rf = ensemble.RandomForestClassifier()\n"
      ],
      "metadata": {
        "id": "Vt0EsuSHcpWf"
      },
      "execution_count": null,
      "outputs": []
    },
    {
      "cell_type": "code",
      "source": [
        "rf.fit(x_train,y_train)\n",
        "y_pred = rf.predict(x_test)\n",
        "y_pred2 = rf.predict(x_train)\n",
        "print(\"Test Accuracy:\",accuracy_score(y_test,y_pred))\n",
        "print(\"Train Accuracy:\",accuracy_score(y_train,y_pred2))"
      ],
      "metadata": {
        "colab": {
          "base_uri": "https://localhost:8080/"
        },
        "id": "uLPv8D8ydmoV",
        "outputId": "032354af-fb93-43cc-89eb-bebb50c26513"
      },
      "execution_count": null,
      "outputs": [
        {
          "output_type": "stream",
          "name": "stdout",
          "text": [
            "Test Accuracy: 0.8260869565217391\n",
            "Train Accuracy: 1.0\n"
          ]
        }
      ]
    },
    {
      "cell_type": "code",
      "source": [
        "print('Parameters currently use in:')\n",
        "print(rf.get_params())"
      ],
      "metadata": {
        "colab": {
          "base_uri": "https://localhost:8080/"
        },
        "id": "vj-iWcIseEUx",
        "outputId": "d55ea437-c14f-4f33-ca3d-cfcc45f83d89"
      },
      "execution_count": null,
      "outputs": [
        {
          "output_type": "stream",
          "name": "stdout",
          "text": [
            "Parameters currently use in:\n",
            "{'bootstrap': True, 'ccp_alpha': 0.0, 'class_weight': None, 'criterion': 'gini', 'max_depth': None, 'max_features': 'sqrt', 'max_leaf_nodes': None, 'max_samples': None, 'min_impurity_decrease': 0.0, 'min_samples_leaf': 1, 'min_samples_split': 2, 'min_weight_fraction_leaf': 0.0, 'n_estimators': 100, 'n_jobs': None, 'oob_score': False, 'random_state': None, 'verbose': 0, 'warm_start': False}\n"
          ]
        }
      ]
    },
    {
      "cell_type": "code",
      "source": [
        "params = {\n",
        "    'n_estimators':list(range(10,100,5)),\n",
        "    'max_depth': list(range(1,20,5)),\n",
        "    'min_samples_leaf':list(range(5,100,5)),\n",
        "    'criterion':['gini','entropy']\n",
        "}"
      ],
      "metadata": {
        "id": "V4osf1JkeOEE"
      },
      "execution_count": null,
      "outputs": []
    },
    {
      "cell_type": "code",
      "source": [
        "from sklearn.model_selection import GridSearchCV\n",
        "grid_search = GridSearchCV(estimator = rf,\n",
        "                           param_grid = params,\n",
        "                           cv = 4,\n",
        "                           n_jobs =-1,\n",
        "                           verbose=1,\n",
        "                           scoring = 'accuracy')\n",
        "grid_search.fit(x_train,y_train)\n",
        "print(grid.best_params_)\n",
        "print(grid_search.best_score_)"
      ],
      "metadata": {
        "id": "c9i7EdbOg4_q"
      },
      "execution_count": null,
      "outputs": []
    },
    {
      "cell_type": "code",
      "source": [
        "rs = RandomizedSearchCV(estimator = rf,\n",
        "                        param_distributions=params,\n",
        "                        cv = 4,\n",
        "                        n_jobs=-1,\n",
        "                        verbose = 1,\n",
        "                        scoring = 'accuracy')\n",
        "rs.fit(x_train,y_train)\n"
      ],
      "metadata": {
        "colab": {
          "base_uri": "https://localhost:8080/",
          "height": 134
        },
        "id": "2vWCWqSVheSa",
        "outputId": "47318794-88e3-4c43-eeb2-e3005d637aa4"
      },
      "execution_count": null,
      "outputs": [
        {
          "output_type": "stream",
          "name": "stdout",
          "text": [
            "Fitting 4 folds for each of 10 candidates, totalling 40 fits\n"
          ]
        },
        {
          "output_type": "execute_result",
          "data": {
            "text/plain": [
              "RandomizedSearchCV(cv=4, estimator=RandomForestClassifier(), n_jobs=-1,\n",
              "                   param_distributions={'criterion': ['gini', 'entropy'],\n",
              "                                        'max_depth': [1, 6, 11, 16],\n",
              "                                        'min_samples_leaf': [5, 10, 15, 20, 25,\n",
              "                                                             30, 35, 40, 45, 50,\n",
              "                                                             55, 60, 65, 70, 75,\n",
              "                                                             80, 85, 90, 95],\n",
              "                                        'n_estimators': [10, 15, 20, 25, 30, 35,\n",
              "                                                         40, 45, 50, 55, 60, 65,\n",
              "                                                         70, 75, 80, 85, 90,\n",
              "                                                         95]},\n",
              "                   scoring='accuracy', verbose=1)"
            ],
            "text/html": [
              "<style>#sk-container-id-3 {color: black;background-color: white;}#sk-container-id-3 pre{padding: 0;}#sk-container-id-3 div.sk-toggleable {background-color: white;}#sk-container-id-3 label.sk-toggleable__label {cursor: pointer;display: block;width: 100%;margin-bottom: 0;padding: 0.3em;box-sizing: border-box;text-align: center;}#sk-container-id-3 label.sk-toggleable__label-arrow:before {content: \"▸\";float: left;margin-right: 0.25em;color: #696969;}#sk-container-id-3 label.sk-toggleable__label-arrow:hover:before {color: black;}#sk-container-id-3 div.sk-estimator:hover label.sk-toggleable__label-arrow:before {color: black;}#sk-container-id-3 div.sk-toggleable__content {max-height: 0;max-width: 0;overflow: hidden;text-align: left;background-color: #f0f8ff;}#sk-container-id-3 div.sk-toggleable__content pre {margin: 0.2em;color: black;border-radius: 0.25em;background-color: #f0f8ff;}#sk-container-id-3 input.sk-toggleable__control:checked~div.sk-toggleable__content {max-height: 200px;max-width: 100%;overflow: auto;}#sk-container-id-3 input.sk-toggleable__control:checked~label.sk-toggleable__label-arrow:before {content: \"▾\";}#sk-container-id-3 div.sk-estimator input.sk-toggleable__control:checked~label.sk-toggleable__label {background-color: #d4ebff;}#sk-container-id-3 div.sk-label input.sk-toggleable__control:checked~label.sk-toggleable__label {background-color: #d4ebff;}#sk-container-id-3 input.sk-hidden--visually {border: 0;clip: rect(1px 1px 1px 1px);clip: rect(1px, 1px, 1px, 1px);height: 1px;margin: -1px;overflow: hidden;padding: 0;position: absolute;width: 1px;}#sk-container-id-3 div.sk-estimator {font-family: monospace;background-color: #f0f8ff;border: 1px dotted black;border-radius: 0.25em;box-sizing: border-box;margin-bottom: 0.5em;}#sk-container-id-3 div.sk-estimator:hover {background-color: #d4ebff;}#sk-container-id-3 div.sk-parallel-item::after {content: \"\";width: 100%;border-bottom: 1px solid gray;flex-grow: 1;}#sk-container-id-3 div.sk-label:hover label.sk-toggleable__label {background-color: #d4ebff;}#sk-container-id-3 div.sk-serial::before {content: \"\";position: absolute;border-left: 1px solid gray;box-sizing: border-box;top: 0;bottom: 0;left: 50%;z-index: 0;}#sk-container-id-3 div.sk-serial {display: flex;flex-direction: column;align-items: center;background-color: white;padding-right: 0.2em;padding-left: 0.2em;position: relative;}#sk-container-id-3 div.sk-item {position: relative;z-index: 1;}#sk-container-id-3 div.sk-parallel {display: flex;align-items: stretch;justify-content: center;background-color: white;position: relative;}#sk-container-id-3 div.sk-item::before, #sk-container-id-3 div.sk-parallel-item::before {content: \"\";position: absolute;border-left: 1px solid gray;box-sizing: border-box;top: 0;bottom: 0;left: 50%;z-index: -1;}#sk-container-id-3 div.sk-parallel-item {display: flex;flex-direction: column;z-index: 1;position: relative;background-color: white;}#sk-container-id-3 div.sk-parallel-item:first-child::after {align-self: flex-end;width: 50%;}#sk-container-id-3 div.sk-parallel-item:last-child::after {align-self: flex-start;width: 50%;}#sk-container-id-3 div.sk-parallel-item:only-child::after {width: 0;}#sk-container-id-3 div.sk-dashed-wrapped {border: 1px dashed gray;margin: 0 0.4em 0.5em 0.4em;box-sizing: border-box;padding-bottom: 0.4em;background-color: white;}#sk-container-id-3 div.sk-label label {font-family: monospace;font-weight: bold;display: inline-block;line-height: 1.2em;}#sk-container-id-3 div.sk-label-container {text-align: center;}#sk-container-id-3 div.sk-container {/* jupyter's `normalize.less` sets `[hidden] { display: none; }` but bootstrap.min.css set `[hidden] { display: none !important; }` so we also need the `!important` here to be able to override the default hidden behavior on the sphinx rendered scikit-learn.org. See: https://github.com/scikit-learn/scikit-learn/issues/21755 */display: inline-block !important;position: relative;}#sk-container-id-3 div.sk-text-repr-fallback {display: none;}</style><div id=\"sk-container-id-3\" class=\"sk-top-container\"><div class=\"sk-text-repr-fallback\"><pre>RandomizedSearchCV(cv=4, estimator=RandomForestClassifier(), n_jobs=-1,\n",
              "                   param_distributions={&#x27;criterion&#x27;: [&#x27;gini&#x27;, &#x27;entropy&#x27;],\n",
              "                                        &#x27;max_depth&#x27;: [1, 6, 11, 16],\n",
              "                                        &#x27;min_samples_leaf&#x27;: [5, 10, 15, 20, 25,\n",
              "                                                             30, 35, 40, 45, 50,\n",
              "                                                             55, 60, 65, 70, 75,\n",
              "                                                             80, 85, 90, 95],\n",
              "                                        &#x27;n_estimators&#x27;: [10, 15, 20, 25, 30, 35,\n",
              "                                                         40, 45, 50, 55, 60, 65,\n",
              "                                                         70, 75, 80, 85, 90,\n",
              "                                                         95]},\n",
              "                   scoring=&#x27;accuracy&#x27;, verbose=1)</pre><b>In a Jupyter environment, please rerun this cell to show the HTML representation or trust the notebook. <br />On GitHub, the HTML representation is unable to render, please try loading this page with nbviewer.org.</b></div><div class=\"sk-container\" hidden><div class=\"sk-item sk-dashed-wrapped\"><div class=\"sk-label-container\"><div class=\"sk-label sk-toggleable\"><input class=\"sk-toggleable__control sk-hidden--visually\" id=\"sk-estimator-id-7\" type=\"checkbox\" ><label for=\"sk-estimator-id-7\" class=\"sk-toggleable__label sk-toggleable__label-arrow\">RandomizedSearchCV</label><div class=\"sk-toggleable__content\"><pre>RandomizedSearchCV(cv=4, estimator=RandomForestClassifier(), n_jobs=-1,\n",
              "                   param_distributions={&#x27;criterion&#x27;: [&#x27;gini&#x27;, &#x27;entropy&#x27;],\n",
              "                                        &#x27;max_depth&#x27;: [1, 6, 11, 16],\n",
              "                                        &#x27;min_samples_leaf&#x27;: [5, 10, 15, 20, 25,\n",
              "                                                             30, 35, 40, 45, 50,\n",
              "                                                             55, 60, 65, 70, 75,\n",
              "                                                             80, 85, 90, 95],\n",
              "                                        &#x27;n_estimators&#x27;: [10, 15, 20, 25, 30, 35,\n",
              "                                                         40, 45, 50, 55, 60, 65,\n",
              "                                                         70, 75, 80, 85, 90,\n",
              "                                                         95]},\n",
              "                   scoring=&#x27;accuracy&#x27;, verbose=1)</pre></div></div></div><div class=\"sk-parallel\"><div class=\"sk-parallel-item\"><div class=\"sk-item\"><div class=\"sk-label-container\"><div class=\"sk-label sk-toggleable\"><input class=\"sk-toggleable__control sk-hidden--visually\" id=\"sk-estimator-id-8\" type=\"checkbox\" ><label for=\"sk-estimator-id-8\" class=\"sk-toggleable__label sk-toggleable__label-arrow\">estimator: RandomForestClassifier</label><div class=\"sk-toggleable__content\"><pre>RandomForestClassifier()</pre></div></div></div><div class=\"sk-serial\"><div class=\"sk-item\"><div class=\"sk-estimator sk-toggleable\"><input class=\"sk-toggleable__control sk-hidden--visually\" id=\"sk-estimator-id-9\" type=\"checkbox\" ><label for=\"sk-estimator-id-9\" class=\"sk-toggleable__label sk-toggleable__label-arrow\">RandomForestClassifier</label><div class=\"sk-toggleable__content\"><pre>RandomForestClassifier()</pre></div></div></div></div></div></div></div></div></div></div>"
            ]
          },
          "metadata": {},
          "execution_count": 51
        }
      ]
    },
    {
      "cell_type": "code",
      "source": [],
      "metadata": {
        "id": "O6AaYEhEjRyc"
      },
      "execution_count": null,
      "outputs": []
    },
    {
      "cell_type": "code",
      "source": [
        "print(rs.best_params_)\n",
        "print(rs.best_score_)"
      ],
      "metadata": {
        "colab": {
          "base_uri": "https://localhost:8080/"
        },
        "id": "BKxyMZYVjRgG",
        "outputId": "0afb33a5-83e6-4032-d49c-f14ca4822fd9"
      },
      "execution_count": null,
      "outputs": [
        {
          "output_type": "stream",
          "name": "stdout",
          "text": [
            "{'n_estimators': 40, 'min_samples_leaf': 85, 'max_depth': 16, 'criterion': 'gini'}\n",
            "0.8520882740447958\n"
          ]
        }
      ]
    },
    {
      "cell_type": "code",
      "source": [
        "x_train, x_test , y_train, y_test = train_test_split(X,Y,train_size=.75,random_state = 9)"
      ],
      "metadata": {
        "id": "DFj4dNvOnL25"
      },
      "execution_count": null,
      "outputs": []
    },
    {
      "cell_type": "code",
      "source": [
        "from sklearn.compose import ColumnTransformer\n",
        "from sklearn.pipeline import Pipeline\n",
        "from sklearn.preprocessing import OneHotEncoder\n",
        "\n",
        "step1 = ColumnTransformer(transformers = [\n",
        "    ('col_tnf',OneHotEncoder(sparse=False,drop='first'),[1,3,6,10,14,16,20,21])\n",
        "],remainder = 'passthrough')\n",
        "\n",
        "step2 = ensemble.RandomForestClassifier()\n",
        "\n",
        "params = {\n",
        "    'n_estimators':list(range(10,100,5)),\n",
        "    'max_depth': list(range(1,20,5)),\n",
        "    'min_samples_leaf':list(range(5,100,5)),\n",
        "    'criterion':['gini','entropy']\n",
        "}\n",
        "step3 = RandomizedSearchCV(estimator = step2,\n",
        "                        param_distributions=params,\n",
        "                        cv = 4,\n",
        "                        n_jobs=-1,\n",
        "                        verbose = 1,\n",
        "                        scoring = 'accuracy')\n",
        "\n",
        "pipe = Pipeline([\n",
        "    ('step1',step1),\n",
        "    ('step3',step3)\n",
        "])\n",
        "\n",
        "pipe2 = Pipeline([\n",
        "    ('step1',step1),\n",
        "    ('step2',step2)\n",
        "])\n",
        "\n",
        "print('Accuracy before Hyperparameter Tuning')\n",
        "pipe2.fit(x_train,y_train)\n",
        "y_pred = pipe2.predict(x_train)\n",
        "y_pred2 = pipe2.predict(x_test)\n",
        "print(\"Test Accuracy:\",accuracy_score(y_test,y_pred2))\n",
        "print(\"Train Accuracy:\",accuracy_score(y_train,y_pred))\n",
        "print('-'*45)\n",
        "#----------------------------------------------------\n",
        "print('Accuracy After Hyperparameter Tuning')\n",
        "pipe.fit(x_train,y_train)\n",
        "y_pred = pipe.predict(x_train)\n",
        "y_pred2 = pipe.predict(x_test)\n",
        "print(\"Test Accuracy:\",accuracy_score(y_test,y_pred2))\n",
        "print(\"Train Accuracy:\",accuracy_score(y_train,y_pred))"
      ],
      "metadata": {
        "colab": {
          "base_uri": "https://localhost:8080/"
        },
        "id": "as8CPQl5jSv2",
        "outputId": "6ef39a60-ad36-4fb4-9b71-9456ca4408e3"
      },
      "execution_count": null,
      "outputs": [
        {
          "output_type": "stream",
          "name": "stdout",
          "text": [
            "Accuracy before Hyperparameter Tuning\n",
            "Test Accuracy: 0.845108695652174\n",
            "Train Accuracy: 1.0\n",
            "---------------------------------------------\n",
            "Accuracy After Hyperparameter Tuning\n",
            "Fitting 4 folds for each of 10 candidates, totalling 40 fits\n",
            "Test Accuracy: 0.8288043478260869\n",
            "Train Accuracy: 0.852994555353902\n"
          ]
        }
      ]
    },
    {
      "cell_type": "code",
      "source": [],
      "metadata": {
        "id": "yLd8If6EnQV7"
      },
      "execution_count": null,
      "outputs": []
    },
    {
      "cell_type": "code",
      "source": [],
      "metadata": {
        "id": "w3_u9qVvpEu8"
      },
      "execution_count": null,
      "outputs": []
    }
  ],
  "metadata": {
    "colab": {
      "provenance": [],
      "authorship_tag": "ABX9TyMc2jWEtGUioSfM6Ok929a9",
      "include_colab_link": true
    },
    "kernelspec": {
      "display_name": "Python 3",
      "name": "python3"
    },
    "language_info": {
      "name": "python"
    }
  },
  "nbformat": 4,
  "nbformat_minor": 0
}